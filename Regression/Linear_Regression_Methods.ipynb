{
  "cells": [
    {
      "cell_type": "markdown",
      "metadata": {
        "id": "view-in-github",
        "colab_type": "text"
      },
      "source": [
        "<a href=\"https://colab.research.google.com/github/KolipakaRamesh/Machine-Learning-with-Python/blob/master/Regression/Linear_Regression_Methods.ipynb\" target=\"_parent\"><img src=\"https://colab.research.google.com/assets/colab-badge.svg\" alt=\"Open In Colab\"/></a>"
      ]
    },
    {
      "cell_type": "markdown",
      "metadata": {
        "id": "Lpu1O8xjg94k"
      },
      "source": [
        "# Linear regression with various methods\n",
        "This is a very simple example of using two scipy tools for linear regression.\n",
        "* Scipy.Polyfit\n",
        "* Stats.linregress\n",
        "* Optimize.curve_fit\n",
        "* numpy.linalg.lstsq\n",
        "* statsmodels.OLS\n",
        "* Analytic solution using Moore-Penrose generalized inverse or simple multiplicative matrix inverse\n",
        "* sklearn.linear_model.LinearRegression"
      ]
    },
    {
      "cell_type": "markdown",
      "metadata": {
        "id": "GJKi-Rl0g94l"
      },
      "source": [
        "## Import libraries"
      ]
    },
    {
      "cell_type": "code",
      "execution_count": 3,
      "metadata": {
        "id": "1jst7lpeg94m"
      },
      "outputs": [],
      "source": [
        "from scipy import stats, optimize\n",
        "import statsmodels.api as sm\n",
        "import matplotlib.pyplot as plt\n",
        "import time\n",
        "import numpy as np\n",
        "from sklearn.linear_model import LinearRegression\n",
        "import pandas as pd\n",
        "%matplotlib inline"
      ]
    },
    {
      "cell_type": "markdown",
      "metadata": {
        "id": "iyL4b0dxg94n"
      },
      "source": [
        "## Generate random data of a sufficiently large size"
      ]
    },
    {
      "cell_type": "code",
      "execution_count": 6,
      "metadata": {
        "collapsed": true,
        "id": "TorgDMRyg94o"
      },
      "outputs": [],
      "source": [
        "#Sample data creation\n",
        "#number of points\n",
        "n=int(5e6)\n",
        "t=np.linspace(-10,10,n)\n",
        "#parameters\n",
        "a=3.25; b=-6.5\n",
        "x=np.polyval([a,b],t)\n",
        "#add some noise\n",
        "xn=x+3*np.random.randn(n)"
      ]
    },
    {
      "cell_type": "markdown",
      "metadata": {
        "id": "L1F1waxbg94o"
      },
      "source": [
        "### Draw few random sample points and plot"
      ]
    },
    {
      "cell_type": "code",
      "execution_count": null,
      "metadata": {
        "id": "e5YJXrvHg94o",
        "outputId": "45846a3d-c94f-4965-9c06-94f65d3d3b6c"
      },
      "outputs": [
        {
          "data": {
            "image/png": "[encoded data removed]",
            "text/plain": [
              "<matplotlib.figure.Figure at 0x289503a98d0>"
            ]
          },
          "metadata": {},
          "output_type": "display_data"
        }
      ],
      "source": [
        "xvar=np.random.choice(t,size=20)\n",
        "yvar=polyval([a,b],xvar)+3*randn(20)\n",
        "plt.scatter(xvar,yvar,c='green',edgecolors='k')\n",
        "plt.grid(True)\n",
        "plt.show()"
      ]
    },
    {
      "cell_type": "markdown",
      "metadata": {
        "id": "fwt5YIv8g94p"
      },
      "source": [
        "## Method: Scipy.Polyfit"
      ]
    },
    {
      "cell_type": "code",
      "execution_count": 8,
      "metadata": {
        "colab": {
          "base_uri": "https://localhost:8080/"
        },
        "id": "uj2dChp9g94p",
        "outputId": "7e7582fa-c28f-4ccb-a711-9262a50618c7"
      },
      "outputs": [
        {
          "output_type": "stream",
          "name": "stdout",
          "text": [
            "Linear regression using polyfit\n",
            "parameters: a=3.25 b=-6.50, ms error= 3.002\n",
            "Time taken: 1.563492774963379 seconds\n"
          ]
        }
      ],
      "source": [
        "#Linear regressison -polyfit - polyfit can be used other orders polynomials\n",
        "t1=time.time()\n",
        "(ar,br)=np.polyfit(t,xn,1)\n",
        "xr=np.polyval([ar,br],t)\n",
        "#compute the mean square error\n",
        "err=np.sqrt(sum((xr-xn)**2)/n)\n",
        "t2=time.time()\n",
        "t_polyfit = float(t2-t1)\n",
        "\n",
        "print('Linear regression using polyfit')\n",
        "print('parameters: a=%.2f b=%.2f, ms error= %.3f' % (ar,br,err))\n",
        "print(\"Time taken: {} seconds\".format(t_polyfit))"
      ]
    },
    {
      "cell_type": "markdown",
      "metadata": {
        "id": "R9xYQgH7g94q"
      },
      "source": [
        "## Method: Stats.linregress"
      ]
    },
    {
      "cell_type": "code",
      "execution_count": 9,
      "metadata": {
        "colab": {
          "base_uri": "https://localhost:8080/"
        },
        "id": "wQ77xAfYg94q",
        "outputId": "1da5d941-b905-45a9-cce9-9115613c7c42"
      },
      "outputs": [
        {
          "output_type": "stream",
          "name": "stdout",
          "text": [
            "Linear regression using stats.linregress\n",
            "a=3.25 b=-6.50, std error= 0.000, r^2 coefficient= 0.987\n",
            "Time taken: 0.11312532424926758 seconds\n"
          ]
        }
      ],
      "source": [
        "#Linear regression using stats.linregress\n",
        "t1=time.time()\n",
        "(a_s,b_s,r,tt,stderr)=stats.linregress(t,xn)\n",
        "t2=time.time()\n",
        "t_linregress = float(t2-t1)\n",
        "\n",
        "print('Linear regression using stats.linregress')\n",
        "print('a=%.2f b=%.2f, std error= %.3f, r^2 coefficient= %.3f' % (a_s,b_s,stderr,r))\n",
        "print(\"Time taken: {} seconds\".format(t_linregress))"
      ]
    },
    {
      "cell_type": "markdown",
      "metadata": {
        "id": "4261IF1bg94q"
      },
      "source": [
        "## Method: Optimize.curve_fit"
      ]
    },
    {
      "cell_type": "code",
      "execution_count": 10,
      "metadata": {
        "collapsed": true,
        "id": "kQv3J3iig94r"
      },
      "outputs": [],
      "source": [
        "def flin(t,a,b):\n",
        "    result = a*t+b\n",
        "    return(result)"
      ]
    },
    {
      "cell_type": "code",
      "execution_count": 11,
      "metadata": {
        "colab": {
          "base_uri": "https://localhost:8080/"
        },
        "id": "IDNjU8Xyg94r",
        "outputId": "afd05121-2ea0-425a-ae17-616613bfae72"
      },
      "outputs": [
        {
          "output_type": "stream",
          "name": "stdout",
          "text": [
            "Linear regression using optimize.curve_fit\n",
            "parameters: a=3.25 b=-6.50\n",
            "Time taken: 0.7005417346954346 seconds\n"
          ]
        }
      ],
      "source": [
        "t1=time.time()\n",
        "p1,_=optimize.curve_fit(flin,xdata=t,ydata=xn,method='lm')\n",
        "t2=time.time()\n",
        "t_optimize_curve_fit = float(t2-t1)\n",
        "\n",
        "print('Linear regression using optimize.curve_fit')\n",
        "print('parameters: a=%.2f b=%.2f' % (p1[0],p1[1]))\n",
        "print(\"Time taken: {} seconds\".format(t_optimize_curve_fit))"
      ]
    },
    {
      "cell_type": "markdown",
      "metadata": {
        "id": "AR2cWFHvg94r"
      },
      "source": [
        "## Method: numpy.linalg.lstsq"
      ]
    },
    {
      "cell_type": "code",
      "execution_count": 12,
      "metadata": {
        "colab": {
          "base_uri": "https://localhost:8080/"
        },
        "id": "4MwzNA-5g94s",
        "outputId": "eccb8a04-2f52-42a6-d313-10c4dcd72f74"
      },
      "outputs": [
        {
          "output_type": "stream",
          "name": "stdout",
          "text": [
            "Linear regression using numpy.linalg.lstsq\n",
            "parameters: a=3.25 b=-6.50, ms error= 3.002\n",
            "Time taken: 0.270493745803833 seconds\n"
          ]
        },
        {
          "output_type": "stream",
          "name": "stderr",
          "text": [
            "/tmp/ipython-input-3943612781.py:10: DeprecationWarning: Conversion of an array with ndim > 0 to a scalar is deprecated, and will error in future. Ensure you extract a single element from your array before performing this operation. (Deprecated NumPy 1.25.)\n",
            "  print('parameters: a=%.2f b=%.2f, ms error= %.3f' % (ar,br,err))\n"
          ]
        }
      ],
      "source": [
        "t1=time.time()\n",
        "A = np.vstack([t, np.ones(len(t))]).T\n",
        "result = np.linalg.lstsq(A, xn)\n",
        "ar,br = result[0]\n",
        "err = np.sqrt(result[1]/len(xn))\n",
        "t2=time.time()\n",
        "t_linalg_lstsq = float(t2-t1)\n",
        "\n",
        "print('Linear regression using numpy.linalg.lstsq')\n",
        "print('parameters: a=%.2f b=%.2f, ms error= %.3f' % (ar,br,err))\n",
        "print(\"Time taken: {} seconds\".format(t_linalg_lstsq))"
      ]
    },
    {
      "cell_type": "markdown",
      "metadata": {
        "id": "njpqhmX-g94s"
      },
      "source": [
        "## Method: Statsmodels.OLS"
      ]
    },
    {
      "cell_type": "code",
      "execution_count": 13,
      "metadata": {
        "colab": {
          "base_uri": "https://localhost:8080/"
        },
        "id": "GRFDZdyjg94s",
        "outputId": "8d5bbda8-0e73-4f01-9c3f-39ae3e5d6cec"
      },
      "outputs": [
        {
          "output_type": "stream",
          "name": "stdout",
          "text": [
            "Linear regression using statsmodels.OLS\n",
            "parameters: a=3.25 b=-6.50\n",
            "Time taken: 0.9513373374938965 seconds\n"
          ]
        }
      ],
      "source": [
        "t1=time.time()\n",
        "t=sm.add_constant(t)\n",
        "model = sm.OLS(x, t)\n",
        "results = model.fit()\n",
        "ar=results.params[1]\n",
        "br=results.params[0]\n",
        "t2=time.time()\n",
        "t_OLS = float(t2-t1)\n",
        "\n",
        "print('Linear regression using statsmodels.OLS')\n",
        "print('parameters: a=%.2f b=%.2f'% (ar,br))\n",
        "print(\"Time taken: {} seconds\".format(t_OLS))"
      ]
    },
    {
      "cell_type": "code",
      "execution_count": 14,
      "metadata": {
        "colab": {
          "base_uri": "https://localhost:8080/"
        },
        "id": "oN2h-kLCg94s",
        "outputId": "5de0881d-f603-49de-bc50-b19ed97701e1"
      },
      "outputs": [
        {
          "output_type": "stream",
          "name": "stdout",
          "text": [
            "                            OLS Regression Results                            \n",
            "==============================================================================\n",
            "Dep. Variable:                      y   R-squared:                       1.000\n",
            "Model:                            OLS   Adj. R-squared:                  1.000\n",
            "Method:                 Least Squares   F-statistic:                 3.888e+36\n",
            "Date:                Sun, 17 Aug 2025   Prob (F-statistic):               0.00\n",
            "Time:                        10:16:13   Log-Likelihood:             1.5031e+08\n",
            "No. Observations:             5000000   AIC:                        -3.006e+08\n",
            "Df Residuals:                 4999998   BIC:                        -3.006e+08\n",
            "Df Model:                           1                                         \n",
            "Covariance Type:            nonrobust                                         \n",
            "==============================================================================\n",
            "                 coef    std err          t      P>|t|      [0.025      0.975]\n",
            "------------------------------------------------------------------------------\n",
            "const         -6.5000   9.52e-18  -6.83e+17      0.000      -6.500      -6.500\n",
            "x1             3.2500   1.65e-18   1.97e+18      0.000       3.250       3.250\n",
            "==============================================================================\n",
            "Omnibus:                  2888915.793   Durbin-Watson:                   0.018\n",
            "Prob(Omnibus):                  0.000   Jarque-Bera (JB):           274896.760\n",
            "Skew:                          -0.018   Prob(JB):                         0.00\n",
            "Kurtosis:                       1.852   Cond. No.                         5.77\n",
            "==============================================================================\n",
            "\n",
            "Notes:\n",
            "[1] Standard Errors assume that the covariance matrix of the errors is correctly specified.\n"
          ]
        }
      ],
      "source": [
        "print(results.summary())"
      ]
    },
    {
      "cell_type": "markdown",
      "metadata": {
        "id": "x5fN0uTMg94t"
      },
      "source": [
        "## Analytic solution using Moore-Penrose pseudoinverse"
      ]
    },
    {
      "cell_type": "code",
      "execution_count": 15,
      "metadata": {
        "colab": {
          "base_uri": "https://localhost:8080/"
        },
        "id": "b8EIn02Yg94t",
        "outputId": "f9175730-49c3-4e20-c4a8-e65c2ee0cc89"
      },
      "outputs": [
        {
          "output_type": "stream",
          "name": "stdout",
          "text": [
            "Linear regression using Moore-Penrose inverse\n",
            "parameters: a=3.25 b=-6.50\n",
            "Time taken: 0.3977806568145752 seconds\n"
          ]
        }
      ],
      "source": [
        "t1=time.time()\n",
        "mpinv = np.linalg.pinv(t)\n",
        "result = mpinv.dot(x)\n",
        "ar = result[1]\n",
        "br = result[0]\n",
        "t2=time.time()\n",
        "t_inv_matrix = float(t2-t1)\n",
        "\n",
        "print('Linear regression using Moore-Penrose inverse')\n",
        "print('parameters: a=%.2f b=%.2f'% (ar,br))\n",
        "print(\"Time taken: {} seconds\".format(t_inv_matrix))"
      ]
    },
    {
      "cell_type": "markdown",
      "metadata": {
        "id": "X4-NDwiKg94t"
      },
      "source": [
        "## Analytic solution using simple multiplicative matrix inverse"
      ]
    },
    {
      "cell_type": "code",
      "execution_count": 16,
      "metadata": {
        "colab": {
          "base_uri": "https://localhost:8080/"
        },
        "id": "svffPwLqg94t",
        "outputId": "6f3048a2-403d-4b38-dc7d-f7c3923331e6"
      },
      "outputs": [
        {
          "output_type": "stream",
          "name": "stdout",
          "text": [
            "Linear regression using simple inverse\n",
            "parameters: a=3.25 b=-6.50\n",
            "Time taken: 0.17663240432739258 seconds\n"
          ]
        }
      ],
      "source": [
        "t1=time.time()\n",
        "m = np.dot((np.dot(np.linalg.inv(np.dot(t.T,t)),t.T)),x)\n",
        "ar = m[1]\n",
        "br = m[0]\n",
        "t2=time.time()\n",
        "t_simple_inv = float(t2-t1)\n",
        "\n",
        "print('Linear regression using simple inverse')\n",
        "print('parameters: a=%.2f b=%.2f'% (ar,br))\n",
        "print(\"Time taken: {} seconds\".format(t_simple_inv))"
      ]
    },
    {
      "cell_type": "markdown",
      "metadata": {
        "id": "vxavGzYog94u"
      },
      "source": [
        "## Method: sklearn.linear_model.LinearRegression"
      ]
    },
    {
      "cell_type": "code",
      "execution_count": 17,
      "metadata": {
        "colab": {
          "base_uri": "https://localhost:8080/"
        },
        "id": "PDSINOsOg94u",
        "outputId": "a09bc36c-944c-41e1-b262-0f7e55d7b5a0"
      },
      "outputs": [
        {
          "output_type": "stream",
          "name": "stdout",
          "text": [
            "Linear regression using sklearn.linear_model.LinearRegression\n",
            "parameters: a=3.25 b=-6.50\n",
            "Time taken: 1.187204360961914 seconds\n"
          ]
        }
      ],
      "source": [
        "t1=time.time()\n",
        "lm = LinearRegression()\n",
        "lm.fit(t,x)\n",
        "ar=lm.coef_[1]\n",
        "br=lm.intercept_\n",
        "t2=time.time()\n",
        "t_sklearn_linear = float(t2-t1)\n",
        "\n",
        "print('Linear regression using sklearn.linear_model.LinearRegression')\n",
        "print('parameters: a=%.2f b=%.2f'% (ar,br))\n",
        "print(\"Time taken: {} seconds\".format(t_sklearn_linear))"
      ]
    },
    {
      "cell_type": "markdown",
      "metadata": {
        "id": "xW0XYLRng94u"
      },
      "source": [
        "## Bucket all the execution times in a list and plot"
      ]
    },
    {
      "cell_type": "code",
      "execution_count": 18,
      "metadata": {
        "collapsed": true,
        "id": "mS3ja0DYg94u"
      },
      "outputs": [],
      "source": [
        "times = [t_polyfit,t_linregress,t_optimize_curve_fit,t_linalg_lstsq,t_OLS,t_inv_matrix,t_simple_inv,t_sklearn_linear]"
      ]
    },
    {
      "cell_type": "code",
      "execution_count": 20,
      "metadata": {
        "colab": {
          "base_uri": "https://localhost:8080/",
          "height": 218
        },
        "id": "nNHfSX3lg94v",
        "outputId": "dade019a-044c-4e82-e324-b0b3d953eeec"
      },
      "outputs": [
        {
          "output_type": "display_data",
          "data": {
            "text/plain": [
              "<Figure size 2000x500 with 1 Axes>"
            ],
            "image/png": "[encoded data removed]"
          },
          "metadata": {}
        }
      ],
      "source": [
        "plt.figure(figsize=(20,5))\n",
        "plt.grid(True)\n",
        "plt.bar(x=range(len(times)), height=times, width=0.4,\n",
        "        tick_label=['Polyfit','Stats.linregress','Optimize.curve_fit',\n",
        "                    'numpy.linalg.lstsq','statsmodels.OLS','Moore-Penrose matrix inverse',\n",
        "                    'Simple matrix inverse','sklearn.linear_model'])\n",
        "plt.show()"
      ]
    },
    {
      "cell_type": "code",
      "execution_count": 21,
      "metadata": {
        "collapsed": true,
        "id": "VloyC6B7g94v"
      },
      "outputs": [],
      "source": [
        "n_min = 50000\n",
        "n_max = int(1e7)\n",
        "n_levels = 25\n",
        "r = np.log10(n_max/n_min)\n",
        "l = np.linspace(0,r,n_levels)\n",
        "n_data = list((n_min*np.power(10,l)))\n",
        "n_data = [int(n) for n in n_data]"
      ]
    },
    {
      "cell_type": "code",
      "execution_count": 23,
      "metadata": {
        "colab": {
          "base_uri": "https://localhost:8080/"
        },
        "id": "0PZlESrUg94v",
        "outputId": "7506effb-4b60-4877-8a92-71cb0acaaa1f"
      },
      "outputs": [
        {
          "output_type": "stream",
          "name": "stderr",
          "text": [
            "100%|██████████| 25/25 [00:36<00:00,  1.46s/it]\n"
          ]
        }
      ],
      "source": [
        "#time_dict={'Polyfit':[],'Stats.lingress':[],'Optimize.curve_fit':[],'linalg.lstsq':[],'statsmodels.OLS':[],\n",
        "          #'Moore-Penrose matrix inverse':[],'Simple matrix inverse':[], 'sklearn.linear_model':[]}\n",
        "\n",
        "l1=['Polyfit', 'Stats.lingress','Optimize.curve_fit', 'linalg.lstsq',\n",
        " 'statsmodels.OLS', 'Moore-Penrose matrix inverse', 'Simple matrix inverse', 'sklearn.linear_model']\n",
        "time_dict = {key:[] for key in l1}\n",
        "\n",
        "from tqdm import tqdm\n",
        "\n",
        "for i in tqdm(range(len(n_data))):\n",
        "    t=np.linspace(-10,10,n_data[i])\n",
        "    #parameters\n",
        "    a=3.25; b=-6.5\n",
        "    x=np.polyval([a,b],t)\n",
        "    #add some noise\n",
        "    xn=x+3*np.random.randn(n_data[i])\n",
        "\n",
        "    #Linear regressison -polyfit - polyfit can be used other orders polynomials\n",
        "    t1=time.time()\n",
        "    (ar,br)=np.polyfit(t,xn,1)\n",
        "    t2=time.time()\n",
        "    t_polyfit = 1e3*float(t2-t1)\n",
        "    time_dict['Polyfit'].append(t_polyfit)\n",
        "\n",
        "    #Linear regression using stats.linregress\n",
        "    t1=time.time()\n",
        "    (a_s,b_s,r,tt,stderr)=stats.linregress(t,xn)\n",
        "    t2=time.time()\n",
        "    t_linregress = 1e3*float(t2-t1)\n",
        "    time_dict['Stats.lingress'].append(t_linregress)\n",
        "\n",
        "    #Linear regression using optimize.curve_fit\n",
        "    t1=time.time()\n",
        "    p1,_=optimize.curve_fit(flin,xdata=t,ydata=xn,method='lm')\n",
        "    t2=time.time()\n",
        "    t_optimize_curve_fit = 1e3*float(t2-t1)\n",
        "    time_dict['Optimize.curve_fit'].append(t_optimize_curve_fit)\n",
        "\n",
        "    # Linear regression using np.linalg.lstsq (solving Ax=B equation system)\n",
        "    t1=time.time()\n",
        "    A = np.vstack([t, np.ones(len(t))]).T\n",
        "    result = np.linalg.lstsq(A, xn, rcond=None)\n",
        "    ar,br = result[0]\n",
        "    t2=time.time()\n",
        "    t_linalg_lstsq = 1e3*float(t2-t1)\n",
        "    time_dict['linalg.lstsq'].append(t_linalg_lstsq)\n",
        "\n",
        "    # Linear regression using statsmodels.OLS\n",
        "    t1=time.time()\n",
        "    # Re-add constant for statsmodels as it's removed in each iteration\n",
        "    t_sm = sm.add_constant(t)\n",
        "    model = sm.OLS(x, t_sm)\n",
        "    results = model.fit()\n",
        "    ar=results.params[1]\n",
        "    br=results.params[0]\n",
        "    t2=time.time()\n",
        "    t_OLS = 1e3*float(t2-t1)\n",
        "    time_dict['statsmodels.OLS'].append(t_OLS)\n",
        "\n",
        "\n",
        "    # Linear regression using Moore-Penrose pseudoinverse matrix\n",
        "    t1=time.time()\n",
        "    # Use the t_sm with constant for the inverse\n",
        "    mpinv = np.linalg.pinv(t_sm)\n",
        "    result = mpinv.dot(x)\n",
        "    ar = result[1]\n",
        "    br = result[0]\n",
        "    t2=time.time()\n",
        "    t_mpinverse = 1e3*float(t2-t1)\n",
        "    time_dict['Moore-Penrose matrix inverse'].append(t_mpinverse)\n",
        "\n",
        "    # Linear regression using simple multiplicative inverse matrix\n",
        "    t1=time.time()\n",
        "    # Use the t_sm with constant for the inverse\n",
        "    m = np.dot((np.dot(np.linalg.inv(np.dot(t_sm.T,t_sm)),t_sm.T)),x)\n",
        "    ar = m[1]\n",
        "    br = m[0]\n",
        "    t2=time.time()\n",
        "    t_simple_inv = 1e3*float(t2-t1)\n",
        "    time_dict['Simple matrix inverse'].append(t_simple_inv)\n",
        "\n",
        "\n",
        "    # Linear regression using scikit-learn's linear_model\n",
        "    t1=time.time()\n",
        "    lm = LinearRegression()\n",
        "    # Reshape t to be a 2D array as expected by sklearn\n",
        "    lm.fit(t.reshape(-1, 1), x)\n",
        "    ar=lm.coef_[0] # Sklearn returns a single coefficient for a single feature\n",
        "    br=lm.intercept_\n",
        "    t2=time.time()\n",
        "    t_sklearn_linear = 1e3*float(t2-t1)\n",
        "    time_dict['sklearn.linear_model'].append(t_sklearn_linear)"
      ]
    },
    {
      "cell_type": "code",
      "execution_count": 24,
      "metadata": {
        "colab": {
          "base_uri": "https://localhost:8080/",
          "height": 905
        },
        "id": "bvbniexmg94w",
        "outputId": "e51aec9c-50ae-477b-b7bb-198cceaf5bc7"
      },
      "outputs": [
        {
          "output_type": "execute_result",
          "data": {
            "text/plain": [
              "       Polyfit  Stats.lingress  Optimize.curve_fit  linalg.lstsq  \\\n",
              "0    36.956310       17.605543           15.360355     11.205196   \n",
              "1    22.857904       10.895014            9.110212      3.574371   \n",
              "2    13.572931        2.802849           34.636259      3.607512   \n",
              "3     9.380102        4.130363            9.103298      4.120827   \n",
              "4    12.891293        3.607988           10.795355      5.283833   \n",
              "5    16.237020        4.325628           13.785124      6.466389   \n",
              "6    41.984797        4.549980           39.577961     23.431540   \n",
              "7    39.065838        6.107092           24.416447     10.564566   \n",
              "8    68.141222       14.381886           53.684235     23.303032   \n",
              "9    78.218699        8.712053           38.574934     16.644716   \n",
              "10   56.511164       10.292053           50.050497     21.965265   \n",
              "11   76.250792       23.976088           66.482306     26.669741   \n",
              "12   94.495773       13.068199           64.027309     26.942253   \n",
              "13   75.238466       16.456127           85.077047     38.056135   \n",
              "14   85.440397       21.971941          112.771749     43.703794   \n",
              "15  135.513544       27.703047          167.094707     57.756424   \n",
              "16  251.035929       69.104910          202.945471    122.236252   \n",
              "17  286.906242       50.615311          270.272970    141.530752   \n",
              "18  255.315781       50.590277          269.833326    140.866041   \n",
              "19  340.673208       64.973831          320.300102    127.830982   \n",
              "20  394.849777       92.950821          423.315525    168.431044   \n",
              "21  496.427298      107.831240          586.011887    271.268129   \n",
              "22  913.991451      165.496588          854.598284    345.501184   \n",
              "23  783.065081      180.524826          931.623697    435.822964   \n",
              "24  994.446993      212.932825         1249.047279    754.659414   \n",
              "\n",
              "    statsmodels.OLS  Moore-Penrose matrix inverse  Simple matrix inverse  \\\n",
              "0         39.057970                     25.494814               0.990152   \n",
              "1         25.117397                      5.358696               1.118183   \n",
              "2         21.589994                      6.567717               1.463413   \n",
              "3         29.569864                     11.166096               1.837969   \n",
              "4         24.146318                     10.092258               2.241850   \n",
              "5         59.295893                     39.841890              14.951229   \n",
              "6         63.887596                     66.019773              11.670351   \n",
              "7         61.237097                     33.725023               4.215240   \n",
              "8        120.316505                     34.437895              11.975527   \n",
              "9        125.150442                     73.828459              13.156176   \n",
              "10       136.481762                    122.081757              26.123285   \n",
              "11       186.850309                     89.225054              16.081095   \n",
              "12       121.669769                     52.683353              11.201620   \n",
              "13       150.066853                     85.295439              27.796507   \n",
              "14       223.520041                     67.549229              17.680645   \n",
              "15       276.160479                    154.212952              31.505108   \n",
              "16       573.139668                    297.984362              54.464102   \n",
              "17       411.654711                    171.852350              35.178423   \n",
              "18       519.451141                    227.555037              47.807455   \n",
              "19       537.770748                    207.590580              54.188728   \n",
              "20       713.818312                    342.829466              67.061901   \n",
              "21       925.022125                    461.999416             109.342575   \n",
              "22      1168.721437                    535.006285             115.295887   \n",
              "23      1432.563305                    601.108313             140.548468   \n",
              "24      2042.634249                    733.839035             172.743082   \n",
              "\n",
              "    sklearn.linear_model  \n",
              "0              20.317078  \n",
              "1               4.100323  \n",
              "2               4.939318  \n",
              "3               5.337477  \n",
              "4               6.757736  \n",
              "5              17.027617  \n",
              "6               9.124517  \n",
              "7              19.834518  \n",
              "8              14.753103  \n",
              "9              59.359312  \n",
              "10             79.025269  \n",
              "11             25.867462  \n",
              "12             31.972647  \n",
              "13             42.529106  \n",
              "14             47.854900  \n",
              "15            109.738350  \n",
              "16            110.604763  \n",
              "17             95.953465  \n",
              "18            130.771875  \n",
              "19            143.767357  \n",
              "20            165.595293  \n",
              "21            274.573565  \n",
              "22            263.156652  \n",
              "23            334.374189  \n",
              "24            412.973881  "
            ],
            "text/html": [
              "\n",
              "  <div id=\"df-42e74487-c9d2-4098-adfa-f1c9a0d8eb41\" class=\"colab-df-container\">\n",
              "    <div>\n",
              "<style scoped>\n",
              "    .dataframe tbody tr th:only-of-type {\n",
              "        vertical-align: middle;\n",
              "    }\n",
              "\n",
              "    .dataframe tbody tr th {\n",
              "        vertical-align: top;\n",
              "    }\n",
              "\n",
              "    .dataframe thead th {\n",
              "        text-align: right;\n",
              "    }\n",
              "</style>\n",
              "<table border=\"1\" class=\"dataframe\">\n",
              "  <thead>\n",
              "    <tr style=\"text-align: right;\">\n",
              "      <th></th>\n",
              "      <th>Polyfit</th>\n",
              "      <th>Stats.lingress</th>\n",
              "      <th>Optimize.curve_fit</th>\n",
              "      <th>linalg.lstsq</th>\n",
              "      <th>statsmodels.OLS</th>\n",
              "      <th>Moore-Penrose matrix inverse</th>\n",
              "      <th>Simple matrix inverse</th>\n",
              "      <th>sklearn.linear_model</th>\n",
              "    </tr>\n",
              "  </thead>\n",
              "  <tbody>\n",
              "    <tr>\n",
              "      <th>0</th>\n",
              "      <td>36.956310</td>\n",
              "      <td>17.605543</td>\n",
              "      <td>15.360355</td>\n",
              "      <td>11.205196</td>\n",
              "      <td>39.057970</td>\n",
              "      <td>25.494814</td>\n",
              "      <td>0.990152</td>\n",
              "      <td>20.317078</td>\n",
              "    </tr>\n",
              "    <tr>\n",
              "      <th>1</th>\n",
              "      <td>22.857904</td>\n",
              "      <td>10.895014</td>\n",
              "      <td>9.110212</td>\n",
              "      <td>3.574371</td>\n",
              "      <td>25.117397</td>\n",
              "      <td>5.358696</td>\n",
              "      <td>1.118183</td>\n",
              "      <td>4.100323</td>\n",
              "    </tr>\n",
              "    <tr>\n",
              "      <th>2</th>\n",
              "      <td>13.572931</td>\n",
              "      <td>2.802849</td>\n",
              "      <td>34.636259</td>\n",
              "      <td>3.607512</td>\n",
              "      <td>21.589994</td>\n",
              "      <td>6.567717</td>\n",
              "      <td>1.463413</td>\n",
              "      <td>4.939318</td>\n",
              "    </tr>\n",
              "    <tr>\n",
              "      <th>3</th>\n",
              "      <td>9.380102</td>\n",
              "      <td>4.130363</td>\n",
              "      <td>9.103298</td>\n",
              "      <td>4.120827</td>\n",
              "      <td>29.569864</td>\n",
              "      <td>11.166096</td>\n",
              "      <td>1.837969</td>\n",
              "      <td>5.337477</td>\n",
              "    </tr>\n",
              "    <tr>\n",
              "      <th>4</th>\n",
              "      <td>12.891293</td>\n",
              "      <td>3.607988</td>\n",
              "      <td>10.795355</td>\n",
              "      <td>5.283833</td>\n",
              "      <td>24.146318</td>\n",
              "      <td>10.092258</td>\n",
              "      <td>2.241850</td>\n",
              "      <td>6.757736</td>\n",
              "    </tr>\n",
              "    <tr>\n",
              "      <th>5</th>\n",
              "      <td>16.237020</td>\n",
              "      <td>4.325628</td>\n",
              "      <td>13.785124</td>\n",
              "      <td>6.466389</td>\n",
              "      <td>59.295893</td>\n",
              "      <td>39.841890</td>\n",
              "      <td>14.951229</td>\n",
              "      <td>17.027617</td>\n",
              "    </tr>\n",
              "    <tr>\n",
              "      <th>6</th>\n",
              "      <td>41.984797</td>\n",
              "      <td>4.549980</td>\n",
              "      <td>39.577961</td>\n",
              "      <td>23.431540</td>\n",
              "      <td>63.887596</td>\n",
              "      <td>66.019773</td>\n",
              "      <td>11.670351</td>\n",
              "      <td>9.124517</td>\n",
              "    </tr>\n",
              "    <tr>\n",
              "      <th>7</th>\n",
              "      <td>39.065838</td>\n",
              "      <td>6.107092</td>\n",
              "      <td>24.416447</td>\n",
              "      <td>10.564566</td>\n",
              "      <td>61.237097</td>\n",
              "      <td>33.725023</td>\n",
              "      <td>4.215240</td>\n",
              "      <td>19.834518</td>\n",
              "    </tr>\n",
              "    <tr>\n",
              "      <th>8</th>\n",
              "      <td>68.141222</td>\n",
              "      <td>14.381886</td>\n",
              "      <td>53.684235</td>\n",
              "      <td>23.303032</td>\n",
              "      <td>120.316505</td>\n",
              "      <td>34.437895</td>\n",
              "      <td>11.975527</td>\n",
              "      <td>14.753103</td>\n",
              "    </tr>\n",
              "    <tr>\n",
              "      <th>9</th>\n",
              "      <td>78.218699</td>\n",
              "      <td>8.712053</td>\n",
              "      <td>38.574934</td>\n",
              "      <td>16.644716</td>\n",
              "      <td>125.150442</td>\n",
              "      <td>73.828459</td>\n",
              "      <td>13.156176</td>\n",
              "      <td>59.359312</td>\n",
              "    </tr>\n",
              "    <tr>\n",
              "      <th>10</th>\n",
              "      <td>56.511164</td>\n",
              "      <td>10.292053</td>\n",
              "      <td>50.050497</td>\n",
              "      <td>21.965265</td>\n",
              "      <td>136.481762</td>\n",
              "      <td>122.081757</td>\n",
              "      <td>26.123285</td>\n",
              "      <td>79.025269</td>\n",
              "    </tr>\n",
              "    <tr>\n",
              "      <th>11</th>\n",
              "      <td>76.250792</td>\n",
              "      <td>23.976088</td>\n",
              "      <td>66.482306</td>\n",
              "      <td>26.669741</td>\n",
              "      <td>186.850309</td>\n",
              "      <td>89.225054</td>\n",
              "      <td>16.081095</td>\n",
              "      <td>25.867462</td>\n",
              "    </tr>\n",
              "    <tr>\n",
              "      <th>12</th>\n",
              "      <td>94.495773</td>\n",
              "      <td>13.068199</td>\n",
              "      <td>64.027309</td>\n",
              "      <td>26.942253</td>\n",
              "      <td>121.669769</td>\n",
              "      <td>52.683353</td>\n",
              "      <td>11.201620</td>\n",
              "      <td>31.972647</td>\n",
              "    </tr>\n",
              "    <tr>\n",
              "      <th>13</th>\n",
              "      <td>75.238466</td>\n",
              "      <td>16.456127</td>\n",
              "      <td>85.077047</td>\n",
              "      <td>38.056135</td>\n",
              "      <td>150.066853</td>\n",
              "      <td>85.295439</td>\n",
              "      <td>27.796507</td>\n",
              "      <td>42.529106</td>\n",
              "    </tr>\n",
              "    <tr>\n",
              "      <th>14</th>\n",
              "      <td>85.440397</td>\n",
              "      <td>21.971941</td>\n",
              "      <td>112.771749</td>\n",
              "      <td>43.703794</td>\n",
              "      <td>223.520041</td>\n",
              "      <td>67.549229</td>\n",
              "      <td>17.680645</td>\n",
              "      <td>47.854900</td>\n",
              "    </tr>\n",
              "    <tr>\n",
              "      <th>15</th>\n",
              "      <td>135.513544</td>\n",
              "      <td>27.703047</td>\n",
              "      <td>167.094707</td>\n",
              "      <td>57.756424</td>\n",
              "      <td>276.160479</td>\n",
              "      <td>154.212952</td>\n",
              "      <td>31.505108</td>\n",
              "      <td>109.738350</td>\n",
              "    </tr>\n",
              "    <tr>\n",
              "      <th>16</th>\n",
              "      <td>251.035929</td>\n",
              "      <td>69.104910</td>\n",
              "      <td>202.945471</td>\n",
              "      <td>122.236252</td>\n",
              "      <td>573.139668</td>\n",
              "      <td>297.984362</td>\n",
              "      <td>54.464102</td>\n",
              "      <td>110.604763</td>\n",
              "    </tr>\n",
              "    <tr>\n",
              "      <th>17</th>\n",
              "      <td>286.906242</td>\n",
              "      <td>50.615311</td>\n",
              "      <td>270.272970</td>\n",
              "      <td>141.530752</td>\n",
              "      <td>411.654711</td>\n",
              "      <td>171.852350</td>\n",
              "      <td>35.178423</td>\n",
              "      <td>95.953465</td>\n",
              "    </tr>\n",
              "    <tr>\n",
              "      <th>18</th>\n",
              "      <td>255.315781</td>\n",
              "      <td>50.590277</td>\n",
              "      <td>269.833326</td>\n",
              "      <td>140.866041</td>\n",
              "      <td>519.451141</td>\n",
              "      <td>227.555037</td>\n",
              "      <td>47.807455</td>\n",
              "      <td>130.771875</td>\n",
              "    </tr>\n",
              "    <tr>\n",
              "      <th>19</th>\n",
              "      <td>340.673208</td>\n",
              "      <td>64.973831</td>\n",
              "      <td>320.300102</td>\n",
              "      <td>127.830982</td>\n",
              "      <td>537.770748</td>\n",
              "      <td>207.590580</td>\n",
              "      <td>54.188728</td>\n",
              "      <td>143.767357</td>\n",
              "    </tr>\n",
              "    <tr>\n",
              "      <th>20</th>\n",
              "      <td>394.849777</td>\n",
              "      <td>92.950821</td>\n",
              "      <td>423.315525</td>\n",
              "      <td>168.431044</td>\n",
              "      <td>713.818312</td>\n",
              "      <td>342.829466</td>\n",
              "      <td>67.061901</td>\n",
              "      <td>165.595293</td>\n",
              "    </tr>\n",
              "    <tr>\n",
              "      <th>21</th>\n",
              "      <td>496.427298</td>\n",
              "      <td>107.831240</td>\n",
              "      <td>586.011887</td>\n",
              "      <td>271.268129</td>\n",
              "      <td>925.022125</td>\n",
              "      <td>461.999416</td>\n",
              "      <td>109.342575</td>\n",
              "      <td>274.573565</td>\n",
              "    </tr>\n",
              "    <tr>\n",
              "      <th>22</th>\n",
              "      <td>913.991451</td>\n",
              "      <td>165.496588</td>\n",
              "      <td>854.598284</td>\n",
              "      <td>345.501184</td>\n",
              "      <td>1168.721437</td>\n",
              "      <td>535.006285</td>\n",
              "      <td>115.295887</td>\n",
              "      <td>263.156652</td>\n",
              "    </tr>\n",
              "    <tr>\n",
              "      <th>23</th>\n",
              "      <td>783.065081</td>\n",
              "      <td>180.524826</td>\n",
              "      <td>931.623697</td>\n",
              "      <td>435.822964</td>\n",
              "      <td>1432.563305</td>\n",
              "      <td>601.108313</td>\n",
              "      <td>140.548468</td>\n",
              "      <td>334.374189</td>\n",
              "    </tr>\n",
              "    <tr>\n",
              "      <th>24</th>\n",
              "      <td>994.446993</td>\n",
              "      <td>212.932825</td>\n",
              "      <td>1249.047279</td>\n",
              "      <td>754.659414</td>\n",
              "      <td>2042.634249</td>\n",
              "      <td>733.839035</td>\n",
              "      <td>172.743082</td>\n",
              "      <td>412.973881</td>\n",
              "    </tr>\n",
              "  </tbody>\n",
              "</table>\n",
              "</div>\n",
              "    <div class=\"colab-df-buttons\">\n",
              "\n",
              "  <div class=\"colab-df-container\">\n",
              "    <button class=\"colab-df-convert\" onclick=\"convertToInteractive('df-42e74487-c9d2-4098-adfa-f1c9a0d8eb41')\"\n",
              "            title=\"Convert this dataframe to an interactive table.\"\n",
              "            style=\"display:none;\">\n",
              "\n",
              "  <svg xmlns=\"http://www.w3.org/2000/svg\" height=\"24px\" viewBox=\"0 -960 960 960\">\n",
              "    <path d=\"M120-120v-720h720v720H120Zm60-500h600v-160H180v160Zm220 220h160v-160H400v160Zm0 220h160v-160H400v160ZM180-400h160v-160H180v160Zm440 0h160v-160H620v160ZM180-180h160v-160H180v160Zm440 0h160v-160H620v160Z\"/>\n",
              "  </svg>\n",
              "    </button>\n",
              "\n",
              "  <style>\n",
              "    .colab-df-container {\n",
              "      display:flex;\n",
              "      gap: 12px;\n",
              "    }\n",
              "\n",
              "    .colab-df-convert {\n",
              "      background-color: #E8F0FE;\n",
              "      border: none;\n",
              "      border-radius: 50%;\n",
              "      cursor: pointer;\n",
              "      display: none;\n",
              "      fill: #1967D2;\n",
              "      height: 32px;\n",
              "      padding: 0 0 0 0;\n",
              "      width: 32px;\n",
              "    }\n",
              "\n",
              "    .colab-df-convert:hover {\n",
              "      background-color: #E2EBFA;\n",
              "      box-shadow: 0px 1px 2px rgba(60, 64, 67, 0.3), 0px 1px 3px 1px rgba(60, 64, 67, 0.15);\n",
              "      fill: #174EA6;\n",
              "    }\n",
              "\n",
              "    .colab-df-buttons div {\n",
              "      margin-bottom: 4px;\n",
              "    }\n",
              "\n",
              "    [theme=dark] .colab-df-convert {\n",
              "      background-color: #3B4455;\n",
              "      fill: #D2E3FC;\n",
              "    }\n",
              "\n",
              "    [theme=dark] .colab-df-convert:hover {\n",
              "      background-color: #434B5C;\n",
              "      box-shadow: 0px 1px 3px 1px rgba(0, 0, 0, 0.15);\n",
              "      filter: drop-shadow(0px 1px 2px rgba(0, 0, 0, 0.3));\n",
              "      fill: #FFFFFF;\n",
              "    }\n",
              "  </style>\n",
              "\n",
              "    <script>\n",
              "      const buttonEl =\n",
              "        document.querySelector('#df-42e74487-c9d2-4098-adfa-f1c9a0d8eb41 button.colab-df-convert');\n",
              "      buttonEl.style.display =\n",
              "        google.colab.kernel.accessAllowed ? 'block' : 'none';\n",
              "\n",
              "      async function convertToInteractive(key) {\n",
              "        const element = document.querySelector('#df-42e74487-c9d2-4098-adfa-f1c9a0d8eb41');\n",
              "        const dataTable =\n",
              "          await google.colab.kernel.invokeFunction('convertToInteractive',\n",
              "                                                    [key], {});\n",
              "        if (!dataTable) return;\n",
              "\n",
              "        const docLinkHtml = 'Like what you see? Visit the ' +\n",
              "          '<a target=\"_blank\" href=https://colab.research.google.com/notebooks/data_table.ipynb>data table notebook</a>'\n",
              "          + ' to learn more about interactive tables.';\n",
              "        element.innerHTML = '';\n",
              "        dataTable['output_type'] = 'display_data';\n",
              "        await google.colab.output.renderOutput(dataTable, element);\n",
              "        const docLink = document.createElement('div');\n",
              "        docLink.innerHTML = docLinkHtml;\n",
              "        element.appendChild(docLink);\n",
              "      }\n",
              "    </script>\n",
              "  </div>\n",
              "\n",
              "\n",
              "    <div id=\"df-ceb90eb7-defa-4221-a09f-695c987cd702\">\n",
              "      <button class=\"colab-df-quickchart\" onclick=\"quickchart('df-ceb90eb7-defa-4221-a09f-695c987cd702')\"\n",
              "                title=\"Suggest charts\"\n",
              "                style=\"display:none;\">\n",
              "\n",
              "<svg xmlns=\"http://www.w3.org/2000/svg\" height=\"24px\"viewBox=\"0 0 24 24\"\n",
              "     width=\"24px\">\n",
              "    <g>\n",
              "        <path d=\"M19 3H5c-1.1 0-2 .9-2 2v14c0 1.1.9 2 2 2h14c1.1 0 2-.9 2-2V5c0-1.1-.9-2-2-2zM9 17H7v-7h2v7zm4 0h-2V7h2v10zm4 0h-2v-4h2v4z\"/>\n",
              "    </g>\n",
              "</svg>\n",
              "      </button>\n",
              "\n",
              "<style>\n",
              "  .colab-df-quickchart {\n",
              "      --bg-color: #E8F0FE;\n",
              "      --fill-color: #1967D2;\n",
              "      --hover-bg-color: #E2EBFA;\n",
              "      --hover-fill-color: #174EA6;\n",
              "      --disabled-fill-color: #AAA;\n",
              "      --disabled-bg-color: #DDD;\n",
              "  }\n",
              "\n",
              "  [theme=dark] .colab-df-quickchart {\n",
              "      --bg-color: #3B4455;\n",
              "      --fill-color: #D2E3FC;\n",
              "      --hover-bg-color: #434B5C;\n",
              "      --hover-fill-color: #FFFFFF;\n",
              "      --disabled-bg-color: #3B4455;\n",
              "      --disabled-fill-color: #666;\n",
              "  }\n",
              "\n",
              "  .colab-df-quickchart {\n",
              "    background-color: var(--bg-color);\n",
              "    border: none;\n",
              "    border-radius: 50%;\n",
              "    cursor: pointer;\n",
              "    display: none;\n",
              "    fill: var(--fill-color);\n",
              "    height: 32px;\n",
              "    padding: 0;\n",
              "    width: 32px;\n",
              "  }\n",
              "\n",
              "  .colab-df-quickchart:hover {\n",
              "    background-color: var(--hover-bg-color);\n",
              "    box-shadow: 0 1px 2px rgba(60, 64, 67, 0.3), 0 1px 3px 1px rgba(60, 64, 67, 0.15);\n",
              "    fill: var(--button-hover-fill-color);\n",
              "  }\n",
              "\n",
              "  .colab-df-quickchart-complete:disabled,\n",
              "  .colab-df-quickchart-complete:disabled:hover {\n",
              "    background-color: var(--disabled-bg-color);\n",
              "    fill: var(--disabled-fill-color);\n",
              "    box-shadow: none;\n",
              "  }\n",
              "\n",
              "  .colab-df-spinner {\n",
              "    border: 2px solid var(--fill-color);\n",
              "    border-color: transparent;\n",
              "    border-bottom-color: var(--fill-color);\n",
              "    animation:\n",
              "      spin 1s steps(1) infinite;\n",
              "  }\n",
              "\n",
              "  @keyframes spin {\n",
              "    0% {\n",
              "      border-color: transparent;\n",
              "      border-bottom-color: var(--fill-color);\n",
              "      border-left-color: var(--fill-color);\n",
              "    }\n",
              "    20% {\n",
              "      border-color: transparent;\n",
              "      border-left-color: var(--fill-color);\n",
              "      border-top-color: var(--fill-color);\n",
              "    }\n",
              "    30% {\n",
              "      border-color: transparent;\n",
              "      border-left-color: var(--fill-color);\n",
              "      border-top-color: var(--fill-color);\n",
              "      border-right-color: var(--fill-color);\n",
              "    }\n",
              "    40% {\n",
              "      border-color: transparent;\n",
              "      border-right-color: var(--fill-color);\n",
              "      border-top-color: var(--fill-color);\n",
              "    }\n",
              "    60% {\n",
              "      border-color: transparent;\n",
              "      border-right-color: var(--fill-color);\n",
              "    }\n",
              "    80% {\n",
              "      border-color: transparent;\n",
              "      border-right-color: var(--fill-color);\n",
              "      border-bottom-color: var(--fill-color);\n",
              "    }\n",
              "    90% {\n",
              "      border-color: transparent;\n",
              "      border-bottom-color: var(--fill-color);\n",
              "    }\n",
              "  }\n",
              "</style>\n",
              "\n",
              "      <script>\n",
              "        async function quickchart(key) {\n",
              "          const quickchartButtonEl =\n",
              "            document.querySelector('#' + key + ' button');\n",
              "          quickchartButtonEl.disabled = true;  // To prevent multiple clicks.\n",
              "          quickchartButtonEl.classList.add('colab-df-spinner');\n",
              "          try {\n",
              "            const charts = await google.colab.kernel.invokeFunction(\n",
              "                'suggestCharts', [key], {});\n",
              "          } catch (error) {\n",
              "            console.error('Error during call to suggestCharts:', error);\n",
              "          }\n",
              "          quickchartButtonEl.classList.remove('colab-df-spinner');\n",
              "          quickchartButtonEl.classList.add('colab-df-quickchart-complete');\n",
              "        }\n",
              "        (() => {\n",
              "          let quickchartButtonEl =\n",
              "            document.querySelector('#df-ceb90eb7-defa-4221-a09f-695c987cd702 button');\n",
              "          quickchartButtonEl.style.display =\n",
              "            google.colab.kernel.accessAllowed ? 'block' : 'none';\n",
              "        })();\n",
              "      </script>\n",
              "    </div>\n",
              "\n",
              "  <div id=\"id_7e754abc-0831-4c3c-a4a6-e7cf77c5c2f8\">\n",
              "    <style>\n",
              "      .colab-df-generate {\n",
              "        background-color: #E8F0FE;\n",
              "        border: none;\n",
              "        border-radius: 50%;\n",
              "        cursor: pointer;\n",
              "        display: none;\n",
              "        fill: #1967D2;\n",
              "        height: 32px;\n",
              "        padding: 0 0 0 0;\n",
              "        width: 32px;\n",
              "      }\n",
              "\n",
              "      .colab-df-generate:hover {\n",
              "        background-color: #E2EBFA;\n",
              "        box-shadow: 0px 1px 2px rgba(60, 64, 67, 0.3), 0px 1px 3px 1px rgba(60, 64, 67, 0.15);\n",
              "        fill: #174EA6;\n",
              "      }\n",
              "\n",
              "      [theme=dark] .colab-df-generate {\n",
              "        background-color: #3B4455;\n",
              "        fill: #D2E3FC;\n",
              "      }\n",
              "\n",
              "      [theme=dark] .colab-df-generate:hover {\n",
              "        background-color: #434B5C;\n",
              "        box-shadow: 0px 1px 3px 1px rgba(0, 0, 0, 0.15);\n",
              "        filter: drop-shadow(0px 1px 2px rgba(0, 0, 0, 0.3));\n",
              "        fill: #FFFFFF;\n",
              "      }\n",
              "    </style>\n",
              "    <button class=\"colab-df-generate\" onclick=\"generateWithVariable('df')\"\n",
              "            title=\"Generate code using this dataframe.\"\n",
              "            style=\"display:none;\">\n",
              "\n",
              "  <svg xmlns=\"http://www.w3.org/2000/svg\" height=\"24px\"viewBox=\"0 0 24 24\"\n",
              "       width=\"24px\">\n",
              "    <path d=\"M7,19H8.4L18.45,9,17,7.55,7,17.6ZM5,21V16.75L18.45,3.32a2,2,0,0,1,2.83,0l1.4,1.43a1.91,1.91,0,0,1,.58,1.4,1.91,1.91,0,0,1-.58,1.4L9.25,21ZM18.45,9,17,7.55Zm-12,3A5.31,5.31,0,0,0,4.9,8.1,5.31,5.31,0,0,0,1,6.5,5.31,5.31,0,0,0,4.9,4.9,5.31,5.31,0,0,0,6.5,1,5.31,5.31,0,0,0,8.1,4.9,5.31,5.31,0,0,0,12,6.5,5.46,5.46,0,0,0,6.5,12Z\"/>\n",
              "  </svg>\n",
              "    </button>\n",
              "    <script>\n",
              "      (() => {\n",
              "      const buttonEl =\n",
              "        document.querySelector('#id_7e754abc-0831-4c3c-a4a6-e7cf77c5c2f8 button.colab-df-generate');\n",
              "      buttonEl.style.display =\n",
              "        google.colab.kernel.accessAllowed ? 'block' : 'none';\n",
              "\n",
              "      buttonEl.onclick = () => {\n",
              "        google.colab.notebook.generateWithVariable('df');\n",
              "      }\n",
              "      })();\n",
              "    </script>\n",
              "  </div>\n",
              "\n",
              "    </div>\n",
              "  </div>\n"
            ],
            "application/vnd.google.colaboratory.intrinsic+json": {
              "type": "dataframe",
              "variable_name": "df",
              "summary": "{\n  \"name\": \"df\",\n  \"rows\": 25,\n  \"fields\": [\n    {\n      \"column\": \"Polyfit\",\n      \"properties\": {\n        \"dtype\": \"number\",\n        \"std\": 287.7430206337427,\n        \"min\": 9.380102157592773,\n        \"max\": 994.4469928741455,\n        \"num_unique_values\": 25,\n        \"samples\": [\n          68.14122200012207,\n          251.0359287261963,\n          36.9563102722168\n        ],\n        \"semantic_type\": \"\",\n        \"description\": \"\"\n      }\n    },\n    {\n      \"column\": \"Stats.lingress\",\n      \"properties\": {\n        \"dtype\": \"number\",\n        \"std\": 60.095979238537744,\n        \"min\": 2.8028488159179688,\n        \"max\": 212.93282508850098,\n        \"num_unique_values\": 25,\n        \"samples\": [\n          14.381885528564453,\n          69.10490989685059,\n          17.60554313659668\n        ],\n        \"semantic_type\": \"\",\n        \"description\": \"\"\n      }\n    },\n    {\n      \"column\": \"Optimize.curve_fit\",\n      \"properties\": {\n        \"dtype\": \"number\",\n        \"std\": 331.937827846213,\n        \"min\": 9.10329818725586,\n        \"max\": 1249.0472793579102,\n        \"num_unique_values\": 25,\n        \"samples\": [\n          53.684234619140625,\n          202.94547080993652,\n          15.360355377197266\n        ],\n        \"semantic_type\": \"\",\n        \"description\": \"\"\n      }\n    },\n    {\n      \"column\": \"linalg.lstsq\",\n      \"properties\": {\n        \"dtype\": \"number\",\n        \"std\": 175.7822408418447,\n        \"min\": 3.574371337890625,\n        \"max\": 754.6594142913818,\n        \"num_unique_values\": 25,\n        \"samples\": [\n          23.30303192138672,\n          122.23625183105469,\n          11.205196380615234\n        ],\n        \"semantic_type\": \"\",\n        \"description\": \"\"\n      }\n    },\n    {\n      \"column\": \"statsmodels.OLS\",\n      \"properties\": {\n        \"dtype\": \"number\",\n        \"std\": 511.7053194811889,\n        \"min\": 21.589994430541992,\n        \"max\": 2042.6342487335205,\n        \"num_unique_values\": 25,\n        \"samples\": [\n          120.3165054321289,\n          573.1396675109863,\n          39.05797004699707\n        ],\n        \"semantic_type\": \"\",\n        \"description\": \"\"\n      }\n    },\n    {\n      \"column\": \"Moore-Penrose matrix inverse\",\n      \"properties\": {\n        \"dtype\": \"number\",\n        \"std\": 205.29175778204856,\n        \"min\": 5.358695983886719,\n        \"max\": 733.8390350341797,\n        \"num_unique_values\": 25,\n        \"samples\": [\n          34.43789482116699,\n          297.98436164855957,\n          25.494813919067383\n        ],\n        \"semantic_type\": \"\",\n        \"description\": \"\"\n      }\n    },\n    {\n      \"column\": \"Simple matrix inverse\",\n      \"properties\": {\n        \"dtype\": \"number\",\n        \"std\": 47.153383097124895,\n        \"min\": 0.9901523590087891,\n        \"max\": 172.7430820465088,\n        \"num_unique_values\": 25,\n        \"samples\": [\n          11.975526809692383,\n          54.464101791381836,\n          0.9901523590087891\n        ],\n        \"semantic_type\": \"\",\n        \"description\": \"\"\n      }\n    },\n    {\n      \"column\": \"sklearn.linear_model\",\n      \"properties\": {\n        \"dtype\": \"number\",\n        \"std\": 113.00545922684181,\n        \"min\": 4.100322723388672,\n        \"max\": 412.97388076782227,\n        \"num_unique_values\": 25,\n        \"samples\": [\n          14.753103256225586,\n          110.60476303100586,\n          20.31707763671875\n        ],\n        \"semantic_type\": \"\",\n        \"description\": \"\"\n      }\n    }\n  ]\n}"
            }
          },
          "metadata": {},
          "execution_count": 24
        }
      ],
      "source": [
        "df = pd.DataFrame(data=time_dict)\n",
        "df"
      ]
    },
    {
      "cell_type": "code",
      "execution_count": null,
      "metadata": {
        "id": "TNYkCUnug94w",
        "outputId": "f1421d81-df75-4cc7-b270-72fab129c324"
      },
      "outputs": [
        {
          "data": {
            "text/plain": [
              "<matplotlib.legend.Legend at 0x24edb8101d0>"
            ]
          },
          "execution_count": 8,
          "metadata": {},
          "output_type": "execute_result"
        },
        {
          "data": {
            "image/png": "[encoded data removed]",
            "text/plain": [
              "<matplotlib.figure.Figure at 0x24edb8105f8>"
            ]
          },
          "metadata": {},
          "output_type": "display_data"
        }
      ],
      "source": [
        "plt.figure(figsize=(15,10))\n",
        "for i in df.columns:\n",
        "    plt.semilogx((n_data),df[i],lw=3)\n",
        "plt.xticks([1e5,2e5,5e5,1e6,2e6,5e6,1e7],fontsize=15)\n",
        "plt.xlabel(\"\\nSize of the data set (number of samples)\",fontsize=15)\n",
        "plt.yticks(fontsize=15)\n",
        "plt.ylabel(\"Milliseconds needed for simple linear regression model fit\\n\",fontsize=15)\n",
        "plt.grid(True)\n",
        "plt.legend([name for name in df.columns],fontsize=20)"
      ]
    },
    {
      "cell_type": "code",
      "execution_count": 25,
      "metadata": {
        "collapsed": true,
        "id": "HVZbTvNTg94w"
      },
      "outputs": [],
      "source": [
        "a1=df.iloc[n_levels-1]"
      ]
    },
    {
      "cell_type": "code",
      "execution_count": 27,
      "metadata": {
        "colab": {
          "base_uri": "https://localhost:8080/",
          "height": 216
        },
        "id": "5lyTwZhLg94w",
        "outputId": "9061fba0-46b3-491c-9cff-6eee3fe5d237"
      },
      "outputs": [
        {
          "output_type": "display_data",
          "data": {
            "text/plain": [
              "<Figure size 2000x500 with 1 Axes>"
            ],
            "image/png": "[encoded data removed]"
          },
          "metadata": {}
        }
      ],
      "source": [
        "plt.figure(figsize=(20,5))\n",
        "plt.grid(True)\n",
        "plt.bar(x=range(len(a1)), height=a1, width=0.4,\n",
        "        tick_label=list(a1.index))\n",
        "plt.show()"
      ]
    }
  ],
  "metadata": {
    "kernelspec": {
      "display_name": "Python 3",
      "language": "python",
      "name": "python3"
    },
    "language_info": {
      "codemirror_mode": {
        "name": "ipython",
        "version": 3
      },
      "file_extension": ".py",
      "mimetype": "text/x-python",
      "name": "python",
      "nbconvert_exporter": "python",
      "pygments_lexer": "ipython3",
      "version": "3.6.2"
    },
    "colab": {
      "provenance": [],
      "include_colab_link": true
    }
  },
  "nbformat": 4,
  "nbformat_minor": 0
}